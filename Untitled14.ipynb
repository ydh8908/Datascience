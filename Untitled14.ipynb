{
 "cells": [
  {
   "cell_type": "code",
   "execution_count": 1,
   "metadata": {},
   "outputs": [
    {
     "name": "stdout",
     "output_type": "stream",
     "text": [
      "[{\"market\":\"KRW-BTC\",\"candle_date_time_utc\":\"2019-12-20T21:00:00\",\"candle_date_time_kst\":\"2019-12-21T06:00:00\",\"opening_price\":8369000.00000000,\"high_price\":8369000.00000000,\"low_price\":8348000.00000000,\"trade_price\":8356000.00000000,\"timestamp\":1576879187713,\"candle_acc_trade_price\":155710787.92992000,\"candle_acc_trade_volume\":18.62947694,\"unit\":60},{\"market\":\"KRW-BTC\",\"candle_date_time_utc\":\"2019-12-20T20:00:00\",\"candle_date_time_kst\":\"2019-12-21T05:00:00\",\"opening_price\":8350000.00000000,\"high_price\":8372000.00000000,\"low_price\":8348000.00000000,\"trade_price\":8372000.00000000,\"timestamp\":1576875483177,\"candle_acc_trade_price\":235977194.13629000,\"candle_acc_trade_volume\":28.21724314,\"unit\":60},{\"market\":\"KRW-BTC\",\"candle_date_time_utc\":\"2019-12-20T19:00:00\",\"candle_date_time_kst\":\"2019-12-21T04:00:00\",\"opening_price\":8353000.00000000,\"high_price\":8360000.00000000,\"low_price\":8342000.00000000,\"trade_price\":8350000.00000000,\"timestamp\":1576871998391,\"candle_acc_trade_price\":114096370.96952000,\"candle_acc_trade_volume\":13.66165145,\"unit\":60},{\"market\":\"KRW-BTC\",\"candle_date_time_utc\":\"2019-12-20T18:00:00\",\"candle_date_time_kst\":\"2019-12-21T03:00:00\",\"opening_price\":8345000.00000000,\"high_price\":8365000.00000000,\"low_price\":8330000.00000000,\"trade_price\":8348000.00000000,\"timestamp\":1576868389069,\"candle_acc_trade_price\":648867721.70872000,\"candle_acc_trade_volume\":77.72334125,\"unit\":60},{\"market\":\"KRW-BTC\",\"candle_date_time_utc\":\"2019-12-20T17:00:00\",\"candle_date_time_kst\":\"2019-12-21T02:00:00\",\"opening_price\":8331000.00000000,\"high_price\":8353000.00000000,\"low_price\":8313000.00000000,\"trade_price\":8345000.00000000,\"timestamp\":1576864763145,\"candle_acc_trade_price\":246484594.51882000,\"candle_acc_trade_volume\":29.55552507,\"unit\":60},{\"market\":\"KRW-BTC\",\"candle_date_time_utc\":\"2019-12-20T16:00:00\",\"candle_date_time_kst\":\"2019-12-21T01:00:00\",\"opening_price\":8324000.00000000,\"high_price\":8343000.00000000,\"low_price\":8304000.00000000,\"trade_price\":8332000.00000000,\"timestamp\":1576861190414,\"candle_acc_trade_price\":800702305.44654000,\"candle_acc_trade_volume\":96.23166461,\"unit\":60},{\"market\":\"KRW-BTC\",\"candle_date_time_utc\":\"2019-12-20T15:00:00\",\"candle_date_time_kst\":\"2019-12-21T00:00:00\",\"opening_price\":8371000.00000000,\"high_price\":8395000.00000000,\"low_price\":8304000.00000000,\"trade_price\":8325000.00000000,\"timestamp\":1576857575229,\"candle_acc_trade_price\":1224282270.17600000,\"candle_acc_trade_volume\":146.72157338,\"unit\":60},{\"market\":\"KRW-BTC\",\"candle_date_time_utc\":\"2019-12-20T14:00:00\",\"candle_date_time_kst\":\"2019-12-20T23:00:00\",\"opening_price\":8349000.00000000,\"high_price\":8376000.00000000,\"low_price\":8322000.00000000,\"trade_price\":8371000.00000000,\"timestamp\":1576853992846,\"candle_acc_trade_price\":1017681317.90878000,\"candle_acc_trade_volume\":121.95938627,\"unit\":60},{\"market\":\"KRW-BTC\",\"candle_date_time_utc\":\"2019-12-20T13:00:00\",\"candle_date_time_kst\":\"2019-12-20T22:00:00\",\"opening_price\":8367000.00000000,\"high_price\":8368000.00000000,\"low_price\":8325000.00000000,\"trade_price\":8350000.00000000,\"timestamp\":1576850398985,\"candle_acc_trade_price\":1081008591.91751000,\"candle_acc_trade_volume\":129.51853629,\"unit\":60},{\"market\":\"KRW-BTC\",\"candle_date_time_utc\":\"2019-12-20T12:00:00\",\"candle_date_time_kst\":\"2019-12-20T21:00:00\",\"opening_price\":8320000.00000000,\"high_price\":8381000.00000000,\"low_price\":8306000.00000000,\"trade_price\":8368000.00000000,\"timestamp\":1576846797996,\"candle_acc_trade_price\":2748410230.37911000,\"candle_acc_trade_volume\":329.33528200,\"unit\":60},{\"market\":\"KRW-BTC\",\"candle_date_time_utc\":\"2019-12-20T11:00:00\",\"candle_date_time_kst\":\"2019-12-20T20:00:00\",\"opening_price\":8325000.00000000,\"high_price\":8342000.00000000,\"low_price\":8310000.00000000,\"trade_price\":8320000.00000000,\"timestamp\":1576843199628,\"candle_acc_trade_price\":478293289.61682000,\"candle_acc_trade_volume\":57.48540538,\"unit\":60},{\"market\":\"KRW-BTC\",\"candle_date_time_utc\":\"2019-12-20T10:00:00\",\"candle_date_time_kst\":\"2019-12-20T19:00:00\",\"opening_price\":8311000.00000000,\"high_price\":8328000.00000000,\"low_price\":8300000.00000000,\"trade_price\":8320000.00000000,\"timestamp\":1576839593563,\"candle_acc_trade_price\":597531866.60281000,\"candle_acc_trade_volume\":71.86098500,\"unit\":60},{\"market\":\"KRW-BTC\",\"candle_date_time_utc\":\"2019-12-20T09:00:00\",\"candle_date_time_kst\":\"2019-12-20T18:00:00\",\"opening_price\":8296000.00000000,\"high_price\":8331000.00000000,\"low_price\":8294000.00000000,\"trade_price\":8308000.00000000,\"timestamp\":1576835999963,\"candle_acc_trade_price\":616308847.31699000,\"candle_acc_trade_volume\":74.16604913,\"unit\":60}]\n"
     ]
    }
   ],
   "source": [
    "import requests\n",
    "\n",
    "url = \"https://api.upbit.com/v1/candles/minutes/60\"\n",
    "\n",
    "querystring = {\"market\":\"KRW-BTC\",\"to\":\"2019-12-20 22:00:00\",\"count\":\"13\"}\n",
    "\n",
    "response = requests.request(\"GET\", url, params=querystring)\n",
    "\n",
    "print(response.text)"
   ]
  }
 ],
 "metadata": {
  "kernelspec": {
   "display_name": "Python 3",
   "language": "python",
   "name": "python3"
  },
  "language_info": {
   "codemirror_mode": {
    "name": "ipython",
    "version": 3
   },
   "file_extension": ".py",
   "mimetype": "text/x-python",
   "name": "python",
   "nbconvert_exporter": "python",
   "pygments_lexer": "ipython3",
   "version": "3.7.5"
  }
 },
 "nbformat": 4,
 "nbformat_minor": 2
}
