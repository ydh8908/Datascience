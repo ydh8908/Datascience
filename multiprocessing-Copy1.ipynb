{
 "cells": [
  {
   "cell_type": "code",
   "execution_count": 27,
   "metadata": {},
   "outputs": [
    {
     "name": "stderr",
     "output_type": "stream",
     "text": [
      "WARNING:urllib3.connectionpool:Retrying (Retry(total=4, connect=4, read=5, redirect=None, status=None)) after connection broken by 'NewConnectionError('<urllib3.connection.VerifiedHTTPSConnection object at 0x114d68450>: Failed to establish a new connection: [Errno 8] nodename nor servname provided, or not known')': /v1/market/all\n",
      "WARNING:urllib3.connectionpool:Retrying (Retry(total=3, connect=3, read=5, redirect=None, status=None)) after connection broken by 'NewConnectionError('<urllib3.connection.VerifiedHTTPSConnection object at 0x114d68e90>: Failed to establish a new connection: [Errno 8] nodename nor servname provided, or not known')': /v1/market/all\n",
      "WARNING:urllib3.connectionpool:Retrying (Retry(total=2, connect=2, read=5, redirect=None, status=None)) after connection broken by 'NewConnectionError('<urllib3.connection.VerifiedHTTPSConnection object at 0x114d68e50>: Failed to establish a new connection: [Errno 8] nodename nor servname provided, or not known')': /v1/market/all\n",
      "WARNING:urllib3.connectionpool:Retrying (Retry(total=1, connect=1, read=5, redirect=None, status=None)) after connection broken by 'NewConnectionError('<urllib3.connection.VerifiedHTTPSConnection object at 0x114d68710>: Failed to establish a new connection: [Errno 8] nodename nor servname provided, or not known')': /v1/market/all\n",
      "WARNING:urllib3.connectionpool:Retrying (Retry(total=0, connect=0, read=5, redirect=None, status=None)) after connection broken by 'NewConnectionError('<urllib3.connection.VerifiedHTTPSConnection object at 0x114d684d0>: Failed to establish a new connection: [Errno 8] nodename nor servname provided, or not known')': /v1/market/all\n",
      "ERROR:root:Internal Python error in the inspect module.\n",
      "Below is the traceback from this internal error.\n",
      "\n"
     ]
    },
    {
     "name": "stdout",
     "output_type": "stream",
     "text": [
      "It failed ConnectionError\n",
      "Traceback (most recent call last):\n",
      "  File \"/opt/anaconda3/lib/python3.7/site-packages/IPython/core/interactiveshell.py\", line 3326, in run_code\n",
      "    exec(code_obj, self.user_global_ns, self.user_ns)\n",
      "  File \"<ipython-input-27-8fd326df9422>\", line 27, in <module>\n",
      "    pool = Pool(processes=4) # 4개의 프로세스를 사용합니다.\n",
      "  File \"/opt/anaconda3/lib/python3.7/multiprocessing/context.py\", line 119, in Pool\n",
      "  File \"/opt/anaconda3/lib/python3.7/multiprocessing/pool.py\", line 158, in __init__\n",
      "    self._setup_queues()\n",
      "  File \"/opt/anaconda3/lib/python3.7/multiprocessing/pool.py\", line 251, in _setup_queues\n",
      "    self._inqueue = self._ctx.SimpleQueue()\n",
      "  File \"/opt/anaconda3/lib/python3.7/multiprocessing/context.py\", line 112, in SimpleQueue\n",
      "  File \"/opt/anaconda3/lib/python3.7/multiprocessing/queues.py\", line 331, in __init__\n",
      "  File \"/opt/anaconda3/lib/python3.7/multiprocessing/connection.py\", line 517, in Pipe\n",
      "OSError: [Errno 24] Too many open files\n",
      "\n",
      "During handling of the above exception, another exception occurred:\n",
      "\n",
      "Traceback (most recent call last):\n",
      "  File \"/opt/anaconda3/lib/python3.7/site-packages/IPython/core/interactiveshell.py\", line 2040, in showtraceback\n",
      "    stb = value._render_traceback_()\n",
      "AttributeError: 'OSError' object has no attribute '_render_traceback_'\n",
      "\n",
      "During handling of the above exception, another exception occurred:\n",
      "\n",
      "Traceback (most recent call last):\n",
      "  File \"/opt/anaconda3/lib/python3.7/site-packages/IPython/core/ultratb.py\", line 1101, in get_records\n",
      "  File \"/opt/anaconda3/lib/python3.7/site-packages/IPython/core/ultratb.py\", line 319, in wrapped\n",
      "  File \"/opt/anaconda3/lib/python3.7/site-packages/IPython/core/ultratb.py\", line 353, in _fixed_getinnerframes\n",
      "  File \"/opt/anaconda3/lib/python3.7/inspect.py\", line 1502, in getinnerframes\n",
      "  File \"/opt/anaconda3/lib/python3.7/inspect.py\", line 1460, in getframeinfo\n",
      "  File \"/opt/anaconda3/lib/python3.7/inspect.py\", line 696, in getsourcefile\n",
      "  File \"/opt/anaconda3/lib/python3.7/inspect.py\", line 725, in getmodule\n",
      "  File \"/opt/anaconda3/lib/python3.7/inspect.py\", line 709, in getabsfile\n",
      "  File \"/opt/anaconda3/lib/python3.7/posixpath.py\", line 383, in abspath\n",
      "OSError: [Errno 24] Too many open files\n"
     ]
    },
    {
     "ename": "OSError",
     "evalue": "[Errno 24] Too many open files",
     "output_type": "error",
     "traceback": [
      "\u001b[0;31m---------------------------------------------------------------------------\u001b[0m"
     ]
    }
   ],
   "source": [
    "import pandas as pd\n",
    "import datetime as dt\n",
    "from datetime import timedelta, date\n",
    "import time\n",
    "import numpy as np\n",
    "import pyupbit\n",
    "import requests\n",
    "import inflect\n",
    "from multiprocessing import Pool\n",
    "\n",
    "p = inflect.engine()\n",
    "def get_list(ticker):\n",
    "    vars[ticker]=[]\n",
    "\n",
    "tickers = pyupbit.get_tickers('KRW')\n",
    "\n",
    "\n",
    "\n",
    "def get_data(ticker):\n",
    "    url = \"https://api.upbit.com/v1/candles/minutes/1\"\n",
    "    querystring = {\"market\": ticker, \"to\": '2019-12-01 10:00:00', \"count\": \"1\"}\n",
    "    response = requests.request(\"GET\", url, params=querystring)\n",
    "    data = response.json()\n",
    "    df_raw = pd.DataFrame(data)\n",
    "    print(df_raw)\n",
    "\n",
    "pool = Pool(processes=4) # 4개의 프로세스를 사용합니다.\n",
    "pool.map(p_ticker, tickers)"
   ]
  }
 ],
 "metadata": {
  "kernelspec": {
   "display_name": "Python 3",
   "language": "python",
   "name": "python3"
  },
  "language_info": {
   "codemirror_mode": {
    "name": "ipython",
    "version": 3
   },
   "file_extension": ".py",
   "mimetype": "text/x-python",
   "name": "python",
   "nbconvert_exporter": "python",
   "pygments_lexer": "ipython3",
   "version": "3.7.5"
  }
 },
 "nbformat": 4,
 "nbformat_minor": 2
}
