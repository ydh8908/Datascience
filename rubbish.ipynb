{
 "cells": [
  {
   "cell_type": "code",
   "execution_count": 273,
   "metadata": {
    "scrolled": true
   },
   "outputs": [
    {
     "name": "stdout",
     "output_type": "stream",
     "text": [
      "85\n"
     ]
    }
   ],
   "source": [
    "# import pyupbit\n",
    "# import pybithumb\n",
    "# import numpy as np\n",
    "# import time\n",
    "# import requests\n",
    "# import datetime as dt\n",
    "# from datetime import timedelta, date\n",
    "tickers = pyupbit.get_tickers('KRW')\n",
    "print(len(tickers))\n",
    "\n",
    "\n",
    "\n",
    "# def get_ror(ticker,k):\n",
    "#     df = total_df\n",
    "#     df['volume_KRW']=df['volume']*((df['open']+df['high']+df['close'])/3)\n",
    "#     df['range'] = (df['high'] - df['low']) * k \n",
    "#     df['target'] = df['open'] + df['range'].shift(1)\n",
    "#     fee = 0.0032\n",
    "#     df['ror'] = np.where((df['high'] > df['target']) & (df['volume_KRW']>150000000), df['close'] / df['target']-fee,1)\n",
    "#     ror = df['ror'].cumprod()[-2]\n",
    "#     return (ror)\n",
    "\n",
    "# # tickers = pyupbit.get_tickers('KRW')\n",
    "# # for ticker in tickers:\n",
    "# #     max_ror = 0\n",
    "# #     ror_dict={}\n",
    "# #     for k in np.arange(0.1, 1, 0.05):\n",
    "# #         ror = get_ror(ticker, k)\n",
    "# #         if ror > max_ror:\n",
    "# #             max_ror = ror\n",
    "# #             ror_dict[max_ror]=k\n",
    "# #         time.sleep(0.1)\n",
    "# #     print(ticker + \" \"+\"%.1f %f\" % (ror_dict[max_ror], max_ror))\n"
   ]
  },
  {
   "cell_type": "code",
   "execution_count": 271,
   "metadata": {},
   "outputs": [
    {
     "name": "stdout",
     "output_type": "stream",
     "text": [
      "KRW-BTC\n",
      "KRW-ETH\n",
      "KRW-NEO\n",
      "KRW-MTL\n",
      "KRW-LTC\n",
      "KRW-STRAT\n",
      "KRW-XRP\n",
      "KRW-ETC\n"
     ]
    },
    {
     "ename": "KeyboardInterrupt",
     "evalue": "",
     "output_type": "error",
     "traceback": [
      "\u001b[0;31m---------------------------------------------------------------------------\u001b[0m",
      "\u001b[0;31mKeyboardInterrupt\u001b[0m                         Traceback (most recent call last)",
      "\u001b[0;32m<ipython-input-271-a4ee91e409ae>\u001b[0m in \u001b[0;36m<module>\u001b[0;34m\u001b[0m\n\u001b[1;32m     48\u001b[0m \u001b[0;32mfor\u001b[0m \u001b[0mticker\u001b[0m \u001b[0;32min\u001b[0m \u001b[0mtickers\u001b[0m\u001b[0;34m:\u001b[0m\u001b[0;34m\u001b[0m\u001b[0;34m\u001b[0m\u001b[0m\n\u001b[1;32m     49\u001b[0m     \u001b[0mprint\u001b[0m\u001b[0;34m(\u001b[0m\u001b[0mticker\u001b[0m\u001b[0;34m)\u001b[0m\u001b[0;34m\u001b[0m\u001b[0;34m\u001b[0m\u001b[0m\n\u001b[0;32m---> 50\u001b[0;31m     \u001b[0msell_time_data\u001b[0m\u001b[0;34m(\u001b[0m\u001b[0mticker\u001b[0m\u001b[0;34m)\u001b[0m\u001b[0;34m\u001b[0m\u001b[0;34m\u001b[0m\u001b[0m\n\u001b[0m\u001b[1;32m     51\u001b[0m     \u001b[0mtotal_df\u001b[0m\u001b[0;34m.\u001b[0m\u001b[0mto_excel\u001b[0m\u001b[0;34m(\u001b[0m\u001b[0;34m\"/Users/donghyunyoo/Downloads/무제 폴더 2/\"\u001b[0m\u001b[0;34m+\u001b[0m\u001b[0mticker\u001b[0m\u001b[0;34m+\u001b[0m\u001b[0;34m'.xlsx'\u001b[0m\u001b[0;34m)\u001b[0m\u001b[0;34m\u001b[0m\u001b[0;34m\u001b[0m\u001b[0m\n\u001b[1;32m     52\u001b[0m \u001b[0;34m\u001b[0m\u001b[0m\n",
      "\u001b[0;32m<ipython-input-271-a4ee91e409ae>\u001b[0m in \u001b[0;36msell_time_data\u001b[0;34m(ticker)\u001b[0m\n\u001b[1;32m     17\u001b[0m         \u001b[0mdf_total\u001b[0m\u001b[0;34m.\u001b[0m\u001b[0mappend\u001b[0m\u001b[0;34m(\u001b[0m\u001b[0mdf_raw\u001b[0m\u001b[0;34m)\u001b[0m\u001b[0;34m\u001b[0m\u001b[0;34m\u001b[0m\u001b[0m\n\u001b[1;32m     18\u001b[0m         \u001b[0mb\u001b[0m\u001b[0;34m=\u001b[0m\u001b[0mb\u001b[0m\u001b[0;34m-\u001b[0m\u001b[0mtimedelta\u001b[0m\u001b[0;34m(\u001b[0m\u001b[0mdays\u001b[0m\u001b[0;34m=\u001b[0m\u001b[0;36m1\u001b[0m\u001b[0;34m)\u001b[0m\u001b[0;34m\u001b[0m\u001b[0;34m\u001b[0m\u001b[0m\n\u001b[0;32m---> 19\u001b[0;31m         \u001b[0mtime\u001b[0m\u001b[0;34m.\u001b[0m\u001b[0msleep\u001b[0m\u001b[0;34m(\u001b[0m\u001b[0;36m0.1\u001b[0m\u001b[0;34m)\u001b[0m\u001b[0;34m\u001b[0m\u001b[0;34m\u001b[0m\u001b[0m\n\u001b[0m\u001b[1;32m     20\u001b[0m     \u001b[0mdf_total\u001b[0m\u001b[0;34m=\u001b[0m\u001b[0mpd\u001b[0m\u001b[0;34m.\u001b[0m\u001b[0mconcat\u001b[0m\u001b[0;34m(\u001b[0m\u001b[0mdf_total\u001b[0m\u001b[0;34m)\u001b[0m\u001b[0;34m\u001b[0m\u001b[0;34m\u001b[0m\u001b[0m\n\u001b[1;32m     21\u001b[0m     \u001b[0mdf_total\u001b[0m\u001b[0;34m.\u001b[0m\u001b[0mset_index\u001b[0m\u001b[0;34m(\u001b[0m\u001b[0;34m'candle_date_time_kst'\u001b[0m\u001b[0;34m,\u001b[0m \u001b[0minplace\u001b[0m\u001b[0;34m=\u001b[0m\u001b[0;32mTrue\u001b[0m\u001b[0;34m)\u001b[0m\u001b[0;34m\u001b[0m\u001b[0;34m\u001b[0m\u001b[0m\n",
      "\u001b[0;31mKeyboardInterrupt\u001b[0m: "
     ]
    }
   ],
   "source": [
    "import pandas as pd\n",
    "import datetime as dt\n",
    "from datetime import timedelta, date\n",
    "import time\n",
    "import numpy as np\n",
    "\n",
    "def sell_time_data(ticker):\n",
    "    a = str(date.today()-timedelta(days=1))+' '+'01:00:00'\n",
    "    b = datetime.datetime.strptime(a, '%Y-%m-%d %H:%M:%S')\n",
    "    df_total=[]\n",
    "    for i in range (10):\n",
    "        url = \"https://api.upbit.com/v1/candles/minutes/1\"\n",
    "        querystring = {\"market\":ticker,\"to\":b,\"count\":\"1\"}\n",
    "        response = requests.request(\"GET\", url, params=querystring)\n",
    "        data = response.json()\n",
    "        df_raw = pd.DataFrame(data)\n",
    "        df_total.append(df_raw)\n",
    "        b=b-timedelta(days=1)\n",
    "        time.sleep(0.1)\n",
    "    df_total=pd.concat(df_total)\n",
    "    df_total.set_index('candle_date_time_kst', inplace=True)\n",
    "    price_at_target = df_total.drop(columns=['market', 'candle_date_time_utc','high_price','low_price','trade_price','timestamp','candle_acc_trade_price', 'candle_acc_trade_volume','unit'])\n",
    "    price_at_target['norm_index']= pd.to_datetime(result.index).normalize()\n",
    "    price_at_target.set_index('norm_index', inplace=True)\n",
    "    price_at_target.columns=['sell_price']\n",
    "\n",
    "    df = pd.DataFrame(pyupbit.get_ohlcv(ticker))\n",
    "    df['norm_index']=pd.to_datetime(df.index).normalize()\n",
    "    df.set_index('norm_index', inplace=True)\n",
    "\n",
    "    total_df = df.merge(price_at_target, left_index=True, right_index=True)\n",
    "    return(total_df)\n",
    "\n",
    "\n",
    "# def get_ror(k):\n",
    "#     df = total_df\n",
    "#     df['volume_KRW']=df['volume']*((df['open']+df['high']+df['close'])/3)\n",
    "#     df['range'] = (df['high'] - df['low']) * k \n",
    "#     df['target'] = df['open'] + df['range'].shift(1)\n",
    "#     fee = 0.0032\n",
    "#     df['ror'] = np.where((df['high'] > df['target']) & (df['volume_KRW']>150000000), df['close'] / df['target']-fee,1)\n",
    "#     ror = df['ror'].cumprod()[-2]\n",
    "#     return(ror)    \n",
    "\n",
    "\n",
    "\n",
    "tickers = pyupbit.get_tickers('KRW')\n",
    "for ticker in tickers:\n",
    "    print(ticker)\n",
    "    sell_time_data(ticker)\n",
    "    total_df.to_excel(\"/Users/donghyunyoo/Downloads/무제 폴더 2/\"+ticker+'.xlsx')\n",
    "\n",
    "\n",
    "    \n",
    "#     max_ror = 0\n",
    "#     ror_dict={}\n",
    "#     for k in np.arange(0.1, 1, 0.05):\n",
    "#         ror = get_ror(k)\n",
    "#         if ror > max_ror:\n",
    "#             max_ror = ror\n",
    "#             ror_dict[max_ror]=k\n",
    "#         time.sleep(0.1)\n",
    "#     print(ticker + \" \"+\"%.1f %f\" % (ror_dict[max_ror], max_ror))\n",
    "\n",
    "\n"
   ]
  },
  {
   "cell_type": "code",
   "execution_count": 258,
   "metadata": {},
   "outputs": [
    {
     "name": "stdout",
     "output_type": "stream",
     "text": [
      "             open   high    low  close        volume  sell_price\n",
      "norm_index                                                      \n",
      "2019-12-04  260.0  261.0  250.0  253.0  4.795799e+07       256.0\n",
      "2019-12-05  253.0  263.0  251.0  260.0  4.242945e+07       253.0\n",
      "2019-12-06  260.0  264.0  257.0  263.0  3.745412e+07       259.0\n",
      "2019-12-07  263.0  268.0  261.0  266.0  2.007336e+07       263.0\n",
      "2019-12-08  266.0  270.0  261.0  267.0  2.921858e+07       264.0\n",
      "2019-12-09  266.0  269.0  262.0  264.0  2.623468e+07       267.0\n",
      "2019-12-10  264.0  265.0  257.0  260.0  2.045461e+07       263.0\n",
      "2019-12-11  261.0  262.0  257.0  259.0  1.292052e+07       260.0\n",
      "2019-12-12  260.0  261.0  255.0  256.0  1.901586e+07       258.0\n",
      "2019-12-13  256.0  259.0  254.0  258.0  2.895313e+07       256.0\n"
     ]
    }
   ],
   "source": [
    "# import pyupbit\n",
    "# import pandas\n",
    "\n",
    "# def sell_time_data(ticker):\n",
    "#     a = str(date.today()-timedelta(days=1))+' '+'01:00:00'\n",
    "#     b = datetime.datetime.strptime(a, '%Y-%m-%d %H:%M:%S')\n",
    "#     df_total=[]\n",
    "#     for i in range (10):\n",
    "#         url = \"https://api.upbit.com/v1/candles/minutes/1\"\n",
    "#         querystring = {\"market\":ticker,\"to\":b,\"count\":\"1\"}\n",
    "#         response = requests.request(\"GET\", url, params=querystring)\n",
    "#         data = response.json()\n",
    "#         df_raw = pd.DataFrame(data)\n",
    "#         df_total.append(df_raw)\n",
    "#         b=b-timedelta(days=1)\n",
    "#         time.sleep(0.1)\n",
    "#     df_total=pd.concat(df_total)\n",
    "#     df_total.set_index('candle_date_time_kst', inplace=True)\n",
    "#     price_at_target = df_total.drop(columns=['market', 'candle_date_time_utc','high_price','low_price','trade_price','timestamp','candle_acc_trade_price', 'candle_acc_trade_volume','unit'])\n",
    "#     price_at_target['norm_index']= pd.to_datetime(result.index).normalize()\n",
    "#     price_at_target.set_index('norm_index', inplace=True)\n",
    "#     price_at_target.columns=['sell_price']\n",
    "\n",
    "#     df = pd.DataFrame(pyupbit.get_ohlcv(ticker))\n",
    "#     df['norm_index']=pd.to_datetime(df.index).normalize()\n",
    "#     df.set_index('norm_index', inplace=True)\n",
    "\n",
    "#     total_df = df.merge(price_at_target, left_index=True, right_index=True)\n",
    "#     print(total_df)\n",
    "    \n",
    "# sell_time_data('KRW-XRP')"
   ]
  }
 ],
 "metadata": {
  "kernelspec": {
   "display_name": "Python 3",
   "language": "python",
   "name": "python3"
  },
  "language_info": {
   "codemirror_mode": {
    "name": "ipython",
    "version": 3
   },
   "file_extension": ".py",
   "mimetype": "text/x-python",
   "name": "python",
   "nbconvert_exporter": "python",
   "pygments_lexer": "ipython3",
   "version": "3.7.5"
  }
 },
 "nbformat": 4,
 "nbformat_minor": 2
}
