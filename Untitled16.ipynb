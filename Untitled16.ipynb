{
 "cells": [
  {
   "cell_type": "code",
   "execution_count": 14,
   "metadata": {},
   "outputs": [
    {
     "name": "stdout",
     "output_type": "stream",
     "text": [
      "2019-12-21 18:39:32.905051\n",
      "2019-12-21 18:39:36.970210\n",
      "2019-12-21 18:39:36.970855\n",
      "2019-12-21 18:39:46.368377\n"
     ]
    }
   ],
   "source": [
    "import pandas as pd\n",
    "import datetime as dt\n",
    "from datetime import timedelta, date\n",
    "import time\n",
    "import numpy as np\n",
    "import pyupbit\n",
    "import requests\n",
    "import inflect\n",
    "from multiprocessing import Pool\n",
    "\n",
    "p = inflect.engine()\n",
    "def get_list(ticker):\n",
    "    vars[ticker]=[]\n",
    "\n",
    "tickers = pyupbit.get_tickers('KRW')\n",
    "\n",
    "\n",
    "\n",
    "def get_data(ticker):\n",
    "    url = \"https://api.upbit.com/v1/candles/minutes/1\"\n",
    "    querystring = {\"market\": ticker, \"to\": '2019-12-01 10:00:00', \"count\": \"1\"}\n",
    "    response = requests.request(\"GET\", url, params=querystring)\n",
    "    data = response.json()\n",
    "    df_raw = pd.DataFrame(data)\n",
    "\n",
    "print(dt.datetime.now())\n",
    "pool = Pool(processes=4) # 4개의 프로세스를 사용합니다.\n",
    "pool.map(get_data, tickers)\n",
    "print(dt.datetime.now())\n",
    "\n",
    "print(dt.datetime.now())\n",
    "for ticker in tickers:\n",
    "        get_data(ticker)\n",
    "print(dt.datetime.now())"
   ]
  }
 ],
 "metadata": {
  "kernelspec": {
   "display_name": "Python 3",
   "language": "python",
   "name": "python3"
  },
  "language_info": {
   "codemirror_mode": {
    "name": "ipython",
    "version": 3
   },
   "file_extension": ".py",
   "mimetype": "text/x-python",
   "name": "python",
   "nbconvert_exporter": "python",
   "pygments_lexer": "ipython3",
   "version": "3.7.5"
  }
 },
 "nbformat": 4,
 "nbformat_minor": 2
}
