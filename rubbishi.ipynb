{
 "cells": [
  {
   "cell_type": "code",
   "execution_count": 9,
   "metadata": {},
   "outputs": [
    {
     "name": "stdout",
     "output_type": "stream",
     "text": [
      "It failed ConnectionError\n"
     ]
    }
   ],
   "source": [
    "import pandas as pd\n",
    "import datetime as dt\n",
    "from datetime import timedelta, date\n",
    "import time\n",
    "import numpy as np\n",
    "import pyupbit\n",
    "import requests\n",
    "import inflect\n",
    "from multiprocessing import Pool\n",
    "\n",
    "p = inflect.engine()\n",
    "def get_list(ticker):\n",
    "    vars[ticker]=[]\n",
    "\n",
    "tickers = pyupbit.get_tickers('KRW')\n",
    "tickers\n",
    "\n",
    "# pool = Pool(processes=4) # 4개의 프로세스를 사용합니다.\n",
    "# pool.map(get_list, num_list)\n",
    "\n",
    "# print('KRW-BTC')\n",
    "\n",
    "# def get_data(ticker):\n",
    "#     url = \"https://api.upbit.com/v1/candles/minutes/1\"\n",
    "#     querystring = {\"market\": ticker, \"to\": b, \"count\": \"1\"}\n",
    "#     response = requests.request(\"GET\", url, params=querystring)\n",
    "#     vars[ticker] = response.json()\n",
    "#     vars[ticker] = pd.DataFrame(vars[ticker])\n",
    "#     vars[ticker].append(df_raw)"
   ]
  }
 ],
 "metadata": {
  "kernelspec": {
   "display_name": "Python 3",
   "language": "python",
   "name": "python3"
  },
  "language_info": {
   "codemirror_mode": {
    "name": "ipython",
    "version": 3
   },
   "file_extension": ".py",
   "mimetype": "text/x-python",
   "name": "python",
   "nbconvert_exporter": "python",
   "pygments_lexer": "ipython3",
   "version": "3.7.5"
  }
 },
 "nbformat": 4,
 "nbformat_minor": 2
}
