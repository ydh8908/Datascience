{
 "cells": [
  {
   "cell_type": "code",
   "execution_count": 39,
   "metadata": {},
   "outputs": [
    {
     "name": "stdout",
     "output_type": "stream",
     "text": [
      "10\n"
     ]
    }
   ],
   "source": [
    "from datetime import datetime\n",
    "import pyupbit\n",
    "import requests\n",
    "import json\n",
    "import pandas as pd\n",
    "\n",
    "\n",
    "# url = \"https://api.upbit.com/v1/candles/minutes/1\"\n",
    "# querystring = {\"market\":\"KRW-BTC\",\"to\":\"2019-12-10 09:01:00\",\"count\":\"1\"}\n",
    "# response = requests.request(\"GET\", url, params=querystring)\n",
    "# data = response.json()\n",
    "# df = pd.DataFrame(data)\n",
    "# adj_df=df.drop(columns=['candle_date_time_utc', 'timestamp', 'candle_acc_trade_price'])\n",
    "# adj_df\n",
    "\n",
    "#매 분마다, 이전 분의 분봉을 모든 종목에 한해 받아온다\n",
    "\n",
    "while True:\n",
    "    \n",
    "\n",
    "# datetime.datetime.now()\n",
    "# datetime.datetime.now() - datetime.timedelta(minutes=15)\n",
    "# datetime.datetime(year, month, day, hour=0, minute=0, second=0, microsecond=0, tzinfo=None, *, fold=0)\n",
    "\n",
    "\n",
    "print(datetime.now().day)"
   ]
  }
 ],
 "metadata": {
  "kernelspec": {
   "display_name": "Python 3",
   "language": "python",
   "name": "python3"
  },
  "language_info": {
   "codemirror_mode": {
    "name": "ipython",
    "version": 3
   },
   "file_extension": ".py",
   "mimetype": "text/x-python",
   "name": "python",
   "nbconvert_exporter": "python",
   "pygments_lexer": "ipython3",
   "version": "3.7.5"
  }
 },
 "nbformat": 4,
 "nbformat_minor": 2
}
