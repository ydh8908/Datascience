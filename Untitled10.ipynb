{
 "cells": [
  {
   "cell_type": "code",
   "execution_count": 21,
   "metadata": {},
   "outputs": [
    {
     "name": "stdout",
     "output_type": "stream",
     "text": [
      "{'_id': ObjectId('5df58f7b76ebf936c0c3987a'), 'market': 'KRW-BTC', 'candle_date_time_kst': '2019-12-15T01:26:00', 'opening_price': 8249000.0, 'high_price': 8255000.0, 'low_price': 8248000.0, 'trade_price': 8255000.0, 'candle_acc_trade_price': 19438415.0524, 'candle_acc_trade_volume': 2.35605274}\n"
     ]
    }
   ],
   "source": [
    "from pymongo import MongoClient\n",
    "\n",
    "client = MongoClient('localhost', 27017)  \n",
    "db = client.test1\n",
    "\n",
    "find = db.test1.find({'market':'KRW-BTC', 'candle_date_time_kst':'2019-12-15T01:26:00'})\n",
    "for document in find:\n",
    "        print(document)\n",
    "\n"
   ]
  }
 ],
 "metadata": {
  "kernelspec": {
   "display_name": "Python 3",
   "language": "python",
   "name": "python3"
  },
  "language_info": {
   "codemirror_mode": {
    "name": "ipython",
    "version": 3
   },
   "file_extension": ".py",
   "mimetype": "text/x-python",
   "name": "python",
   "nbconvert_exporter": "python",
   "pygments_lexer": "ipython3",
   "version": "3.7.5"
  }
 },
 "nbformat": 4,
 "nbformat_minor": 2
}
