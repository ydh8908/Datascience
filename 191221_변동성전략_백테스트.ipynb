{
 "cells": [
  {
   "cell_type": "code",
   "execution_count": 104,
   "metadata": {},
   "outputs": [
    {
     "data": {
      "text/plain": [
       "[market                                 KRW-BTC\n",
       " candle_date_time_utc       2019-12-20T04:00:00\n",
       " candle_date_time_kst       2019-12-20T13:00:00\n",
       " opening_price                          8.3e+06\n",
       " high_price                           8.303e+06\n",
       " low_price                            8.274e+06\n",
       " trade_price                          8.284e+06\n",
       " timestamp                        1576817996302\n",
       " candle_acc_trade_price             6.51458e+08\n",
       " candle_acc_trade_volume                78.6218\n",
       " unit                                        60\n",
       " kst                        2019-12-20 13:00:00\n",
       " Name: 10, dtype: object]"
      ]
     },
     "execution_count": 104,
     "metadata": {},
     "output_type": "execute_result"
    }
   ],
   "source": [
    "import pandas as pd\n",
    "import datetime as dt\n",
    "from datetime import timedelta, date\n",
    "import time\n",
    "import numpy as np\n",
    "import pyupbit\n",
    "import requests\n",
    "import inflect\n",
    "p = inflect.engine()\n",
    "\n",
    "for i in range (25):\n",
    "    vars()[p.number_to_words(i)]=[]\n",
    "\n",
    "for i in range(200)\n",
    "a = str(date.today() - timedelta(days=1)) + ' ' + '15:00:00'\n",
    "b = datetime.datetime.strptime(a, '%Y-%m-%d %H:%M:%S')\n",
    "\n",
    "    \n",
    "ticker = 'KRW-BTC'    \n",
    "# for i asdfiohfadshoi\n",
    "\n",
    "df_total = []\n",
    "# for i in range\n",
    "url = \"https://api.upbit.com/v1/candles/minutes/60\"\n",
    "querystring = {\"market\": ticker, \"to\": b, \"count\": \"15\"}\n",
    "response = requests.request(\"GET\", url, params=querystring)\n",
    "data = response.json()\n",
    "df_raw = pd.DataFrame(data)\n",
    "\n",
    "df_raw[\"kst\"] = pd.to_datetime(df_raw['candle_date_time_kst'])\n",
    "for index, row in df_raw.iterrows():\n",
    "        hour = row['kst'].hour\n",
    "        vars()[p.number_to_words(hour)].append(df_raw.loc[index]) \n",
    "        \n",
    "thirteen\n",
    "#         print(df_raw[df_raw['kst'].dt.hour][index])\n",
    "\n",
    "        # for i, k in enumerate (df_raww):\n",
    "#     hour = df_raww[i].hour\n",
    "#     vars()[p.number_to_words(hour)].append(df_raww[i])\n",
    "# print(thirteen)\n",
    "#     '9' = df_raw['kst'].dt.hour == 9\n",
    "# df_raw[nine]\n",
    "# df_raw['candle_date_time_kst'].dt.hour = 9\n",
    "# df_raw['candle_date_time_kst']\n",
    "# df_total.append(df_raw)\n",
    "# b = b - timedelta(days=1)\n",
    "# df_total\n"
   ]
  }
 ],
 "metadata": {
  "kernelspec": {
   "display_name": "Python 3",
   "language": "python",
   "name": "python3"
  },
  "language_info": {
   "codemirror_mode": {
    "name": "ipython",
    "version": 3
   },
   "file_extension": ".py",
   "mimetype": "text/x-python",
   "name": "python",
   "nbconvert_exporter": "python",
   "pygments_lexer": "ipython3",
   "version": "3.7.5"
  }
 },
 "nbformat": 4,
 "nbformat_minor": 2
}
